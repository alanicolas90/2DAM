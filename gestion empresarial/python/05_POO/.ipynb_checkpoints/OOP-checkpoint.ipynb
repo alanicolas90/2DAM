{
 "cells": [
  {
   "cell_type": "markdown",
   "id": "00ebcca8",
   "metadata": {},
   "source": [
    "__Cuaderno de trabajo de:__ Nombre Apellido"
   ]
  },
  {
   "cell_type": "markdown",
   "id": "ac8a1bdf",
   "metadata": {},
   "source": [
    "# Objetos y clases\n",
    "\n",
    "En los años 60 la programación se realizaba de un modo “clásico” (no orientado a objetos).  \n",
    "Un programa era un código que se ejecutaba, los trozos de código que se podían emplear en varias ocasiones a lo largo del programa (reusar) se escribían en forma de procedimientos que se invocaban desde el programa, y esta era la única capacidad de reuso de código posible.  \n",
    "Según los códigos se fueron haciendo más grandes y complejos este estilo de programación se hacía más inviable: es difícil programar algo de grandes dimensiones con este estilo de programación. La única posibilidad de repartir trozos de código relativamente independientes entre programadores son los procedimientos, y al final hay que juntar todos estos con el programa central que los llama, siendo frecuente encontrar problemas al unir estos trozos de código.  \n",
    "En los años 70 se empezó a imponer con fuerza otro estilo de programación: POO, programación orientada o objetos (en la literatura suele aparecer como OOP, Object Oriented Programing). Aquí un programa no es un código que llama a procedimientos, aquí un programa es un montón de objetos, independientes entre si, que dialogan entre ellos pasándose mensajes para llegar a resolver el problema en cuestión.  \n",
    "A un objeto no le importa en absoluto como está implementado otro objeto, que código tiene o deja de tener, que variables usa.... sólo le importa a que mensajes es capaz de responder. Un mensaje es la invocación de un método de otro objeto. Un método es muy semejante a un procedimiento de la programación clásica: a un método se le pasan uno, varios o ningún dato y nos devuelve un dato a cambio.  \n",
    "Si hay que repartir un programa de grandes dimensiones entre varios programadores a cada uno se le asignan unos cuantos objetos, y en lo único que tendrán que ponerse de acuerdo entre ellos es en los mensajes que se van a pasar; la forma en que un programador implemente sus objetos no influye en absoluto en lo que los demás programadores hagan. Esto es así gracias a que los objetos son independientes unos de otros (cuanta mayor sea la independencia entre ellos de mayor calidad serán).  \n",
    "Si analizamos lo que hemos dicho hasta aquí de los objetos veremos que estos parecen tener dos partes bastante diferenciadas: la parte que gestiona los mensajes, que ha de ser conocida por los demás, y que no podremos cambiar en el futuro sin modificar los demás objetos (sí es posible añadir nuevos métodos para dar nuevas funciones al objetos sin modificar los métodos ya existentes). La otra parte es el mecanismo por el cual se generan las acciones requeridas por los mensajes el conjunto de variables que se emplean para lograr estas acciones. Esta segunda parte es, en principio, totalmente desconocida para los demás objetos (a veces no es así, pero es lo ideal en un buena OOP). Por ser desconocida para los demás objetos podemos en cualquier momento modificarla sin que a los demás les importe, y además cada programador tendrá total libertad para llevarla a cabo como él considere oportuno.  \n",
    "La OOP permite abordar con más posibilidades de éxito y con un menor coste temporal grandes proyectos de software, simplificándole además la tarea al programador.  \n",
    "\n",
    "Una __clase__ es la “plantilla” que usamos para crear los objetos. Todos los objetos pertenecen a una determinada clase. Un __objeto__ que se crea a partir de una clase se dice que es una __instancia__ de esa clase. Las distintas clases tienen distintas relaciones de herencia entre si: una clase puede derivarse de otra, en ese caso la clase derivada o clase hija hereda los métodos y variables de la clase de la que se deriva o clase padre.\n",
    "\n",
    "#### Encapsulamiento"
   ]
  },
  {
   "cell_type": "code",
   "execution_count": 1,
   "id": "feb35b35",
   "metadata": {},
   "outputs": [],
   "source": [
    "from datetime import date\n",
    "\n",
    "class Persona:\n",
    "    # En python no existe el encapsulamiento, se puede simular precediendo a los atributos y métodos con dos barras bajas __\n",
    "    __pensamiento = \"Quiero ir a la luna\"  # atributo privado\n",
    "    cara = \"Alegre\"\n",
    "    \n",
    "    # metodo especial __init__ es el  constructor, nos permite inicializar los atributos de los objetos\n",
    "    def __init__(self, año_nacimiento=2000, sexo=\"Hombre\", nombre=\"Nombre\", apellido=\"Apellido\"): \n",
    "        self.año_nacimiento = año_nacimiento\n",
    "        self.sexo = sexo\n",
    "        self.edad = self.get_edad()\n",
    "        self.nombre = nombre\n",
    "        self.apellido = apellido\n",
    "        \n",
    "    # métodos son funciones que se utilizan para definir el comportamiento de los objetos\n",
    "    def get_edad(self):  \n",
    "        return date.today().year - self.año_nacimiento\n",
    "\n",
    "    # todos los métodos recibe como primer parámetro (self)\n",
    "    def info(self):\n",
    "        print(\"---------------------\")\n",
    "        print(\"Nombre   : \"+self.nombre)\n",
    "        print(\"Apellido : \"+self.apellido)\n",
    "        print(\"Edad     : \"+str(self.edad))\n",
    "        print(\"Sexo     : \"+self.sexo)\n",
    " \n",
    "    def get_pensamiento(self):\n",
    "        print(self.__pensamiento)\n",
    "        \n",
    "    def diferencia_edad(self,otra_persona):\n",
    "        print(\"Me llevo \"+str(abs(self.edad-otra_persona.edad))+\" años con \"+otra_persona.nombre)\n",
    "    \n",
    "        "
   ]
  },
  {
   "cell_type": "code",
   "execution_count": 2,
   "id": "75b63ef1",
   "metadata": {},
   "outputs": [
    {
     "name": "stdout",
     "output_type": "stream",
     "text": [
      "---------------------\n",
      "Nombre   : Nombre\n",
      "Apellido : Apellido\n",
      "Edad     : 21\n",
      "Sexo     : Hombre\n",
      "---------------------\n",
      "Nombre   : Manuel\n",
      "Apellido : López\n",
      "Edad     : 42\n",
      "Sexo     : Hombre\n"
     ]
    }
   ],
   "source": [
    "persona00 = Persona()\n",
    "persona00.info()\n",
    "persona01 = Persona(1979,\"Hombre\",\"Manuel\",\"López\")\n",
    "persona01.info()"
   ]
  },
  {
   "cell_type": "code",
   "execution_count": 3,
   "id": "ab2a5301",
   "metadata": {},
   "outputs": [
    {
     "name": "stdout",
     "output_type": "stream",
     "text": [
      "Me llevo 21 años con Manuel\n"
     ]
    }
   ],
   "source": [
    "persona00.diferencia_edad(persona01)"
   ]
  },
  {
   "cell_type": "code",
   "execution_count": 4,
   "id": "f5bafe07",
   "metadata": {},
   "outputs": [
    {
     "name": "stdout",
     "output_type": "stream",
     "text": [
      "Quiero ir a la luna\n",
      "Alegre\n"
     ]
    }
   ],
   "source": [
    "persona01.get_pensamiento()\n",
    "#print(persona01.__pensamiento) #AttributeError: 'Persona' object has no attribute '__pensamiento'\n",
    "print(persona01.cara)"
   ]
  },
  {
   "cell_type": "code",
   "execution_count": 5,
   "id": "27438ce1",
   "metadata": {},
   "outputs": [
    {
     "name": "stdout",
     "output_type": "stream",
     "text": [
      "Año de nacimiento 1979\n"
     ]
    }
   ],
   "source": [
    "print(\"Año de nacimiento \"+str(persona01.año_nacimiento))"
   ]
  },
  {
   "cell_type": "code",
   "execution_count": 6,
   "id": "13472446",
   "metadata": {},
   "outputs": [
    {
     "name": "stdout",
     "output_type": "stream",
     "text": [
      "---------------------\n",
      "Nombre   : Eva\n",
      "Apellido : Gárcia\n",
      "Edad     : 42\n",
      "Sexo     : Mujer\n",
      "\n",
      "Eva tiene cara Alegre\n",
      "Cambiamos la cara a Triste\n",
      "Manuel tiene cara Alegre\n",
      "Eva tiene cara Triste\n"
     ]
    }
   ],
   "source": [
    "persona02 = Persona(1979,\"Mujer\",\"Eva\",\"Gárcia\")\n",
    "persona02.info()\n",
    "print(\"\")\n",
    "print(persona02.nombre+\" tiene cara \"+persona02.cara)\n",
    "print(\"Cambiamos la cara a Triste\")\n",
    "persona02.cara=\"Triste\"\n",
    "print(persona01.nombre+\" tiene cara \"+persona01.cara)\n",
    "print(persona02.nombre+\" tiene cara \"+persona02.cara)"
   ]
  },
  {
   "cell_type": "markdown",
   "id": "4bc79f08",
   "metadata": {},
   "source": [
    "#### Herencia"
   ]
  },
  {
   "cell_type": "code",
   "execution_count": 7,
   "id": "9c26b873",
   "metadata": {
    "scrolled": true
   },
   "outputs": [
    {
     "name": "stdout",
     "output_type": "stream",
     "text": [
      "---------------------\n",
      "Nombre   : María\n",
      "Apellido : García\n",
      "Edad     : 25\n",
      "Sexo     : Mujer\n",
      "Curso    : 1DAM\n"
     ]
    }
   ],
   "source": [
    "class Estudiante(Persona): \n",
    "    def __init__(self, año_nacimiento, sexo, nombre, apellido, curso):\n",
    "        super().__init__(año_nacimiento, sexo, nombre, apellido)\n",
    "        self.curso = curso\n",
    "    def info(self):\n",
    "        # La función super() me proporciona una referencia a la clase base.\n",
    "        super().info()   \n",
    "        print(\"Curso    : \"+self.curso) \n",
    "\n",
    "estudiante01 = Estudiante(1996,\"Mujer\",\"María\",\"García\",\"1DAM\")\n",
    "\n",
    "estudiante01.info()"
   ]
  },
  {
   "cell_type": "markdown",
   "id": "3961bff9",
   "metadata": {},
   "source": [
    "### Polimorfismo"
   ]
  },
  {
   "cell_type": "code",
   "execution_count": 8,
   "id": "59172ab1",
   "metadata": {},
   "outputs": [],
   "source": [
    "from pythonlangutil.overload import Overload, signature  #no hace falta para la sobrecarga devida a la herencia\n",
    "\n",
    "class Profesor(Persona): \n",
    "    def __init__(self, año_nacimiento, sexo, nombre, apellido, curso):\n",
    "        super().__init__(año_nacimiento, sexo, nombre, apellido)\n",
    "        self.curso = curso\n",
    "    def info(self):\n",
    "        super().info()\n",
    "        print(\"Curso    : \"+self.curso)\n",
    "        \n",
    "    @Overload\n",
    "    @signature()\n",
    "    def get_pensamiento(self):\n",
    "        print(\"************\")\n",
    "        \n",
    "    @get_pensamiento.overload\n",
    "    @signature(\"int\",\"int\")    \n",
    "    def get_pensamiento(self,x,y=1):\n",
    "        print(str(x+y))\n",
    "        \n",
    "    @get_pensamiento.overload\n",
    "    @signature(\"str\")    \n",
    "    def get_pensamiento(self,A):\n",
    "        print(A)\n",
    "        \n",
    "profesor01 = Profesor(1981,\"Mujer\",\"Patricia\",\"González\",\"1DAM\")"
   ]
  },
  {
   "cell_type": "code",
   "execution_count": 9,
   "id": "8eeb44ed",
   "metadata": {},
   "outputs": [
    {
     "name": "stdout",
     "output_type": "stream",
     "text": [
      "Quiero ir a la luna\n",
      "************\n",
      "3\n",
      "Hola\n"
     ]
    }
   ],
   "source": [
    "estudiante01.get_pensamiento()\n",
    "profesor01.get_pensamiento()\n",
    "profesor01.get_pensamiento(1,2)\n",
    "profesor01.get_pensamiento(\"Hola\")"
   ]
  },
  {
   "cell_type": "code",
   "execution_count": 10,
   "id": "e9a4500d",
   "metadata": {},
   "outputs": [
    {
     "name": "stdout",
     "output_type": "stream",
     "text": [
      "Asignatura : Mátematicas\n",
      "Profesora : Patricia\n"
     ]
    }
   ],
   "source": [
    "class Asignatura:\n",
    "    def __init__(self, nombre,profesor): \n",
    "        self.nombre = nombre\n",
    "        self.profesor = profesor\n",
    "        \n",
    "    def info(self):\n",
    "        print(\"Asignatura : \"+self.nombre)\n",
    "        if self.profesor.sexo == \"Mujer\":\n",
    "            print(\"Profesora : \"+self.profesor.nombre)\n",
    "        if self.profesor.sexo == \"Hombre\":\n",
    "            print(\"Profesor : \"+self.profesor.nombre)\n",
    "        \n",
    "asignatura01 = Asignatura(\"Mátematicas\",profesor01)\n",
    "asignatura01.info()"
   ]
  },
  {
   "cell_type": "markdown",
   "id": "3a2ab4d1",
   "metadata": {},
   "source": [
    "<hr>\n",
    "<b><font color='red'>Ejercicio 01</font></b>  \n",
    "\n",
    "Crea una clase llamada int8 con una método llamado getint8() que obtenga el número rellenando con \"8\" ceros a la izquierda.\n",
    "Crea otro método sum(int8) que devuelva la suma rellenando con \"8\" ceros a la izquierda\n",
    "En el caso de que el número sea mayor que 9999999 o menor que -9999999, devuelve \"NAN\""
   ]
  },
  {
   "cell_type": "code",
   "execution_count": 58,
   "id": "08d99556",
   "metadata": {},
   "outputs": [
    {
     "name": "stdout",
     "output_type": "stream",
     "text": [
      "5010000\n",
      "6020000\n",
      "NAN\n"
     ]
    }
   ],
   "source": [
    "class int8:\n",
    "    def __init__(self, number):\n",
    "        self.number= number\n",
    "    \n",
    "    def getint8(self):\n",
    "        print(self.number+\"0000\")\n",
    "        \n",
    "    def sum(self, otro_int8):\n",
    "        respuesta=int(self.number)+ int(otro_int8.number)\n",
    "        respuestaFinal= str(respuesta) + \"0000\"\n",
    "        if(int(respuestaFinal)>9999999):\n",
    "            print(\"NAN\")\n",
    "        elif(int(respuestaFinal)< -9999999):\n",
    "            print(\"NAN\")\n",
    "        else:\n",
    "            print(respuestaFinal)\n",
    "\n",
    "\n",
    "#descomenta la siguientes 2 lineas\n",
    "a = int8(\"501\")\n",
    "b = int8(\"101\")\n",
    "a.getint8()\n",
    "a.sum(b)\n",
    "nmax = int8(9999999)\n",
    "a.sum(nmax)"
   ]
  },
  {
   "cell_type": "markdown",
   "id": "bf775a58",
   "metadata": {},
   "source": [
    "<hr>\n",
    "<b><font color='red'>Ejercicio 02</font></b>  \n",
    "\n",
    "Crea una clase llamada Cuenta que tendrá los siguientes atributos: titular (que es una persona) y cantidad (puede tener decimales). El titular será obligatorio y la cantidad es opcional. Construye los siguientes métodos para la clase:  \n",
    "- Un constructor, donde los datos pueden estar vacíos.  \n",
    "- Los setters y getters para cada uno de los atributos. El atributo no se puede modificar directamente, sólo ingresando o retirando dinero.  \n",
    "- mostrar(): Muestra los datos de la cuenta.  \n",
    "- ingresar(cantidad): se ingresa una cantidad a la cuenta, si la cantidad introducida es negativa, no se hará nada.  \n",
    "- retirar(cantidad): se retira una cantidad a la cuenta. La cuenta puede estar en números rojos.\n"
   ]
  },
  {
   "cell_type": "code",
   "execution_count": 95,
   "id": "be35b1db",
   "metadata": {},
   "outputs": [
    {
     "name": "stdout",
     "output_type": "stream",
     "text": [
      "++++++++++\n",
      "Titular: paparapra\n",
      "Cantidad: 10\n",
      "paparapra\n",
      "-90\n",
      "++++++++++\n",
      "Titular: PIPIOLO\n",
      "Cantidad: 1000\n"
     ]
    }
   ],
   "source": [
    "class Cuenta: \n",
    "    \n",
    "    def __init__(self, titular=\"\", cantidad = 0):\n",
    "        self.titular = titular\n",
    "        self.cantidad = cantidad\n",
    "        \n",
    "    def getTitular(self):\n",
    "        print(self.titular)\n",
    "        \n",
    "    def setTitular(self, titular):\n",
    "        self.titular = titular\n",
    "        \n",
    "    def getCantidad(self):\n",
    "        print(str(self.cantidad))\n",
    "      \n",
    "    def setCantidad(self, cantidad):\n",
    "        self.cantidad = cantidad\n",
    "        \n",
    "    def ingresar(self, ingresar_cantidad):\n",
    "        if(ingresar_cantidad > 0):\n",
    "            self.cantidad = self.cantidad + int(ingresar_cantidad)\n",
    "    \n",
    "    def retirar(self, retirar_cantidad):\n",
    "        self.cantidad = self.cantidad - int(retirar_cantidad)\n",
    "        \n",
    "    def mostrar(self):\n",
    "        print(\"++++++++++\")\n",
    "        print(\"Titular: \" + self.titular)\n",
    "        print(\"Cantidad: \"+ str(self.cantidad))\n",
    "\n",
    "        \n",
    "a = Cuenta(\"paparapra\",10)\n",
    "\n",
    "a.mostrar()\n",
    "a.getTitular()\n",
    "a.setTitular(\"PIPIOLO\")\n",
    "a.retirar(100)\n",
    "a.getCantidad()\n",
    "a.setCantidad(1000)\n",
    "a.mostrar()"
   ]
  },
  {
   "cell_type": "markdown",
   "id": "40f0887c",
   "metadata": {},
   "source": [
    "<hr>\n",
    "<b><font color='red'>Ejercicio 03</font></b>  \n",
    "\n",
    "Crea una Clase Teléfono, si empieza por 9 u 8 haz que lo guarde como un fijo, en el caso de que empiece por 6 o 7 lo guarde como móvil.  \n",
    "Haz un método que cambie el número de télefono, en el caso de que reciva mas de 9 dígitos haz que devuelva \"Número no cambiado\" y no guarde el número, en el caso de que tenga nueve digitos, lo guarda como móvil o fijo.\n",
    "Crea una clase persona con télefono, de tal manera que:"
   ]
  },
  {
   "cell_type": "code",
   "execution_count": 122,
   "id": "f9756f04",
   "metadata": {},
   "outputs": [
    {
     "name": "stdout",
     "output_type": "stream",
     "text": [
      "987654321\n",
      "9\n",
      "Mi teléfono es un fíjo con número 987654321\n",
      "Número no cambiado, necesitamos un número de 9 cifras\n",
      "Número cambiado, Mi teléfono es un móvil con número 654987321\n"
     ]
    }
   ],
   "source": [
    "class Persona_tlf:\n",
    "    def __init__(self, año, genero, nombre, apellido, num_tlf):\n",
    "        self.año = año\n",
    "        self.genero= genero\n",
    "        self.nombre= nombre\n",
    "        self.apellido = apellido\n",
    "        self.num_tlf = num_tlf\n",
    "        \n",
    "    def get_tlf(self):\n",
    "        print(self.num_tlf)\n",
    "        \n",
    "    def tlf_info(self):\n",
    "        print(self.num_tlf[0])\n",
    "        if(self.num_tlf[0]== \"9\"):\n",
    "            print(\"Mi teléfono es un fíjo con número \" + str(self.num_tlf))\n",
    "        elif(self.num_tlf[0]== \"8\"):\n",
    "            print(\"Mi teléfono es un fíjo con número \" + str(self.num_tlf))\n",
    "        elif(self.num_tlf[0]== \"7\"):\n",
    "            print(\"Mi teléfono es un movil con número \" + str(self.num_tlf))\n",
    "        elif(self.num_tlf[0]== \"6\"):\n",
    "            print(\"Mi teléfono es un movil con número \" + str(self.num_tlf))\n",
    "        \n",
    "    def cambiar_tlf(self, nuevoNumero):\n",
    "        if(nuevoNumero < 100000000):\n",
    "            print(\"Número no cambiado, necesitamos un número de 9 cifras\")\n",
    "        else:\n",
    "            self.num_tlf = nuevoNumero\n",
    "            print(\"Número cambiado, Mi teléfono es un móvil con número \"+ str(self.num_tlf))\n",
    "            \n",
    "#descomenta la siguientes 2 lineas\n",
    "persona_tlf01 = Persona_tlf(1979,\"Hombre\",\"Manuel\",\"López\",\"987654321\")\n",
    "persona_tlf01.get_tlf()\n",
    "\n",
    "#salida:\n",
    "#987654321\n",
    "\n",
    "#descomenta la siguiente linea\n",
    "persona_tlf01.tlf_info()\n",
    "\n",
    "#salida:\n",
    "#Mi teléfono es un fíjo con número 987654321\n",
    "\n",
    "#descomenta la siguiente linea\n",
    "persona_tlf01.cambiar_tlf(1235)\n",
    "#salida:\n",
    "#Número no cambiado, necesitamos un número de 9 cifras\n",
    "\n",
    "#descomenta la siguiente linea\n",
    "persona_tlf01.cambiar_tlf(654987321)\n",
    "\n",
    "#salida:\n",
    "#Número cambiado, Mi teléfono es un móvil con número 654987321"
   ]
  },
  {
   "cell_type": "markdown",
   "id": "a9556903",
   "metadata": {},
   "source": [
    "<hr>\n",
    "<b><font color='red'>Ejercicio 04</font></b>  \n",
    "\n",
    "Dadas las siguientes listas de módulos:"
   ]
  },
  {
   "cell_type": "code",
   "execution_count": 13,
   "id": "e3f16fff",
   "metadata": {},
   "outputs": [],
   "source": [
    "DAM1 = [[\"0484\", \"Bases de datos\",6 ],\n",
    "  [\"0487\", \"Entornos de desarrollo\", 3 ],\n",
    "  [\"0493\", \"Formación y orientación laboral\", 3 ],\n",
    "  [\"0373\", \"Lenguaje de marcas y sistemas de gestión de información\", 4 ],\n",
    "  [\"0485\", \"Programación\",8 ],\n",
    "  [\"0483\", \"Sistemas informáticos\", 6 ]]\n",
    "DAM2 = [[\"0486\", \"Acceso a datos\", 6],\n",
    "  [\"0488\", \"Desarrollo de interfaces\", 6],\n",
    "  [\"0494\", \"Empresa e iniciativa emprendedora\", 3],\n",
    "  [\"9009\", \"Inglés técnico para grado superior\", 2],\n",
    "  [\"0490\", \"Programación de servicios y procesos\", 4],\n",
    "  [\"0489\", \"Programación multimedia y dispositivos móviles\", 4],\n",
    "  [\"0491\", \"Sistemas de gestión empresarial\", 5]]"
   ]
  },
  {
   "cell_type": "markdown",
   "id": "2f75599f",
   "metadata": {},
   "source": [
    "Crea la clase Curso que cargue los dos cursos DAM1 y DAM2.\n",
    "Crea la clase Modulo que cargue los módulos.\n",
    "Haz una lista con los cursos de tal forma que la salida de:"
   ]
  },
  {
   "cell_type": "code",
   "execution_count": 14,
   "id": "42dcd059",
   "metadata": {},
   "outputs": [],
   "source": [
    "class Curso:\n",
    "  \"\"\"Esribe tu código aquí\"\"\"\n",
    "\n",
    "class Modulo:\n",
    "  \"\"\"Esribe tu código aquí\"\"\"\n",
    "    \n",
    "# descomenta cuando termines de escribir la clase Modulo y Curso    \n",
    "#cursos=[Curso(1,\"DAM\"),Curso(2,\"DAM\")]\n",
    "\n",
    "#for i in DAM1:\n",
    "#  cursos[0].modulos.append(Modulo(i[0],i[1],i[2]))\n",
    "\n",
    "#for i in DAM2:\n",
    "#  cursos[1].modulos.append(Modulo(i[0],i[1],i[2]))\n",
    "\n",
    "#for i in cursos:\n",
    "#  i.info()"
   ]
  },
  {
   "cell_type": "markdown",
   "id": "5c991df4",
   "metadata": {},
   "source": [
    "- ayuda:\n",
    "    + metodo \\_\\_init\\_\\_ para la clase Curso : def \\_\\_init\\_\\_(self,año,nombre):\n",
    "    + metodo \\_\\_init\\_\\_ para la clase Modulo : def \\_\\_init\\_\\_(self, ID, nombre , horas):\n"
   ]
  },
  {
   "cell_type": "markdown",
   "id": "4fae2642",
   "metadata": {},
   "source": [
    "<code>for i in cursos:\n",
    "    i.info()\n",
    "</code>\n",
    "\n",
    "    Curso 1 DAM\n",
    "      0484 Bases de datos (6)\n",
    "      0487 Entornos de desarrollo (3)\n",
    "      0493 Formación y orientación laboral (3)\n",
    "      0373 Lenguaje de marcas y sistemas de gestión de información (4)\n",
    "      0485 Programación (8)\n",
    "      0483 Sistemas informáticos (6)\n",
    "    Curso 2 DAM\n",
    "      0486 Acceso a datos (6)\n",
    "      0488 Desarrollo de interfaces (6)\n",
    "      0494 Empresa e iniciativa emprendedora (3)\n",
    "      9009 Inglés técnico para grado superior (2)\n",
    "      0490 Programación de servicios y procesos (4)\n",
    "      0489 Programación multimedia y dispositivos móviles (4)\n",
    "      0491 Sistemas de gestión empresarial (5)"
   ]
  },
  {
   "cell_type": "markdown",
   "id": "d77de166",
   "metadata": {},
   "source": [
    "<hr>\n",
    "<b><font color='red'>Ejercicio 05</font></b>  \n",
    "\n",
    "Completa el siguiente código:"
   ]
  },
  {
   "cell_type": "code",
   "execution_count": 15,
   "id": "612b252d",
   "metadata": {},
   "outputs": [
    {
     "data": {
      "text/plain": [
       "'Esribe tu código aquí'"
      ]
     },
     "execution_count": 15,
     "metadata": {},
     "output_type": "execute_result"
    }
   ],
   "source": [
    "#tenemos la siguiente lista de pasajeros:\n",
    "\n",
    "lista=[[\"Mujer\",\"Antonella\",\"Rodriguez\"],\n",
    "[\"Mujer\",\"Isabel\",\"Gutierrez\"],\n",
    "[\"Mujer\",\"Luna\",\"Garcia\"],\n",
    "[\"Mujer\",\"Luciana\",\"Gonzalez\"],\n",
    "[\"Mujer\",\"Ana\",\"Martinez\"],\n",
    "[\"Mujer\",\"Sofía\",\"Medina\"],\n",
    "[\"Hombre\",\"Mario\",\"Herrera\"],\n",
    "[\"Mujer\",\"Francesca\",\"Sanchez\"],\n",
    "[\"Hombre\",\"Alejandro\",\"Sanchez\"],\n",
    "[\"Mujer\",\"Alejandra\",\"Romero\"],\n",
    "[\"Mujer\",\"Allison\",\"Castro\"],\n",
    "[\"Hombre\",\"Isaac\",\"Vazquez\"],\n",
    "[\"Hombre\",\"Carlos\",\"Gonzalez\"],\n",
    "[\"Mujer\",\"Renata\",\"Morrell\"],\n",
    "[\"Mujer\",\"Laura\",\"Sanchez\"],\n",
    "[\"Hombre\",\"Sebastián\",\"Molina\"],\n",
    "[\"Mujer\",\"Abigail\",\"Lopez\"],\n",
    "[\"Mujer\",\"Andrea\",\"Ramos\"],\n",
    "[\"Mujer\",\"María\",\"Delgado\"],\n",
    "[\"Mujer\",\"Ivanna\",\"Serrano\"],\n",
    "[\"Mujer\",\"Alejandra\",\"Medina\"],\n",
    "[\"Mujer\",\"Violeta\",\"Ortega\"],\n",
    "[\"Mujer\",\"Ashley\",\"Rodriguez\"],\n",
    "[\"Mujer\",\"Julia\",\"Alvarez\"],\n",
    "[\"Mujer\",\"Miranda\",\"Cruz\"],\n",
    "[\"Mujer\",\"Nicole\",\"Gil\"],\n",
    "[\"Mujer\",\"Rafaela\",\"Herrera\"],\n",
    "[\"Hombre\",\"Samuel\",\"Mendez\"],\n",
    "[\"Hombre\",\"Kevin\",\"Castro\"],\n",
    "[\"Mujer\",\"Lucía\",\"Santos\"],\n",
    "[\"Hombre\",\"LiaHombre\",\"Gil\"],\n",
    "[\"Mujer\",\"Allison\",\"Jimenez\"]]\n",
    "\n",
    "#Teniendo encuenta que todos han nacido en el 2000 crea una lista de Personas con la lista de pasajeros llamala:\n",
    "pasajero=[]\n",
    "\"\"\"Esribe tu código aquí\"\"\"\n",
    "\n",
    "#Cambia el nombre del pasajero del día de tu cumpleaños por tu nombre y pon cara=\"DE CUMPLEAÑOS\", si quieres cambiale tambien el sexo\n",
    "\"\"\"Esribe tu código aquí\"\"\"\n",
    "\n",
    "#haz que se muestre por pantalla la siguiente información"
   ]
  },
  {
   "cell_type": "markdown",
   "id": "8c3157b1",
   "metadata": {},
   "source": [
    "    El pasajero Antonella tiene cara Alegre\n",
    "    El pasajero Isabel tiene cara Alegre\n",
    "    El pasajero Luna tiene cara Alegre\n",
    "    El pasajero Luciana tiene cara Alegre\n",
    "    El pasajero Ana tiene cara Alegre\n",
    "    El pasajero Sofía tiene cara Alegre\n",
    "    El pasajero Mario tiene cara Alegre\n",
    "    El pasajero Francesca tiene cara Alegre\n",
    "    El pasajero Alejandro tiene cara Alegre\n",
    "    El pasajero Alejandra tiene cara Alegre\n",
    "    El pasajero Allison tiene cara Alegre\n",
    "    El pasajero Isaac tiene cara Alegre\n",
    "    El pasajero Carlos tiene cara Alegre\n",
    "    El pasajero Renata tiene cara Alegre\n",
    "    El pasajero Laura tiene cara Alegre\n",
    "    El pasajero Sebastián tiene cara Alegre\n",
    "    El pasajero Abigail tiene cara Alegre\n",
    "    El pasajero Andrea tiene cara Alegre\n",
    "    El pasajero María tiene cara Alegre\n",
    "    El pasajero Ivanna tiene cara Alegre\n",
    "    El pasajero Alejandra tiene cara Alegre\n",
    "    El pasajero Violeta tiene cara Alegre\n",
    "    El pasajero Ashley tiene cara Alegre\n",
    "    El pasajero Julia tiene cara Alegre\n",
    "    El pasajero Miranda tiene cara Alegre\n",
    "    El pasajero Daniel tiene cara DE CUMPLEAÑOS\n",
    "    El pasajero Rafaela tiene cara Alegre\n",
    "    El pasajero Samuel tiene cara Alegre\n",
    "    El pasajero Kevin tiene cara Alegre\n",
    "    El pasajero Lucía tiene cara Alegre\n",
    "    El pasajero LiaHombre tiene cara Alegre\n",
    "    El pasajero Allison tiene cara Alegre"
   ]
  },
  {
   "cell_type": "code",
   "execution_count": null,
   "id": "0ea2b6d1",
   "metadata": {},
   "outputs": [],
   "source": []
  }
 ],
 "metadata": {
  "kernelspec": {
   "display_name": "Python 3 (ipykernel)",
   "language": "python",
   "name": "python3"
  },
  "language_info": {
   "codemirror_mode": {
    "name": "ipython",
    "version": 3
   },
   "file_extension": ".py",
   "mimetype": "text/x-python",
   "name": "python",
   "nbconvert_exporter": "python",
   "pygments_lexer": "ipython3",
   "version": "3.9.13"
  }
 },
 "nbformat": 4,
 "nbformat_minor": 5
}
