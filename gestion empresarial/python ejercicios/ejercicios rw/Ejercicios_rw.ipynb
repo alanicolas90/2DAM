{
 "cells": [
  {
   "cell_type": "markdown",
   "id": "01431782",
   "metadata": {},
   "source": [
    "<hr>\n",
    "<b><font color='red'>Ejercicio 01</font></b>  \n",
    "\n",
    "Lee el archivo.txt "
   ]
  },
  {
   "cell_type": "code",
   "execution_count": 51,
   "id": "89a53994",
   "metadata": {},
   "outputs": [
    {
     "name": "stdout",
     "output_type": "stream",
     "text": [
      "  1.0  2.00\n",
      "  2.0  4.00\n",
      "  3.0  6.00\n",
      "  4.0  8.00\n"
     ]
    }
   ],
   "source": [
    "archivo=\"archivo.txt\"\n",
    "text=open(archivo)\n",
    "\n",
    "while True:\n",
    "    linea = text.readline()\n",
    "    if not linea: \n",
    "        break\n",
    "    print(\"  \"+linea[0]+\".0  \"+ linea[2]+\".00\")\n",
    "\n",
    "\n",
    "    \n"
   ]
  },
  {
   "cell_type": "markdown",
   "id": "abf12d77",
   "metadata": {},
   "source": [
    "y haz que tenga la siguiente salida:\n",
    "\n",
    "    1.0   2.00  \n",
    "    2.0   4.00  \n",
    "    3.0   6.00  \n",
    "    4.0   8.00  \n"
   ]
  },
  {
   "cell_type": "markdown",
   "id": "e822cc55",
   "metadata": {},
   "source": [
    "<hr>\n",
    "<b><font color='red'>Ejercicio 02</font></b>  "
   ]
  },
  {
   "cell_type": "markdown",
   "id": "db1ab0a6",
   "metadata": {},
   "source": [
    "Haz lo mismo con el archvo archivo_error.txt,con ciddado de que a este archivo le falta algún dato, haz que en ese caso cuando lo lea, si no hay dos columnas no lo escriba."
   ]
  },
  {
   "cell_type": "code",
   "execution_count": 207,
   "id": "f87a2f49",
   "metadata": {},
   "outputs": [
    {
     "name": "stdout",
     "output_type": "stream",
     "text": [
      "  1.0  2.00\n",
      "  3.0  6.00\n",
      "  4.0  8.00\n"
     ]
    }
   ],
   "source": [
    "archivo=\"archivo_error.txt\"\n",
    "text=open(archivo)\n",
    "\n",
    "while True:\n",
    "    linea = text.readline()\n",
    "    if not linea: \n",
    "        break\n",
    "    if(len(linea)>=4):\n",
    "        print(\"  \"+linea[0]+\".0  \"+ linea[2]+\".00\")"
   ]
  },
  {
   "cell_type": "markdown",
   "id": "9f77bb7c",
   "metadata": {},
   "source": [
    "<hr>\n",
    "<b><font color='red'>Ejercicio 03</font></b>  "
   ]
  },
  {
   "cell_type": "markdown",
   "id": "e1334eb4",
   "metadata": {},
   "source": [
    "Lee el archivo.txt, haz que imprima las columnas en las filas y las filas en las columnas"
   ]
  },
  {
   "cell_type": "code",
   "execution_count": 114,
   "id": "660b829b",
   "metadata": {},
   "outputs": [
    {
     "name": "stdout",
     "output_type": "stream",
     "text": [
      "1 2 3 4 \n",
      "2 4 6 8 \n"
     ]
    }
   ],
   "source": [
    "archivo=\"archivo.txt\"\n",
    "text=open(archivo)\n",
    "a=[]\n",
    "c=\"\"\n",
    "d=\"\"\n",
    "while True:\n",
    "    linea = text.readline()\n",
    "    if not linea: \n",
    "        break\n",
    "    for i in range(0,2):\n",
    "        a.append(linea.split()[i])\n",
    "        \n",
    "for i in range(len(a)):\n",
    "    if(i % 2 == 0):\n",
    "        c += (a[i]+\" \")\n",
    "    else:\n",
    "        d += (a[i] +\" \")\n",
    "        \n",
    "print(c)\n",
    "print(d)\n"
   ]
  },
  {
   "cell_type": "markdown",
   "id": "0e5c0c6f",
   "metadata": {},
   "source": [
    "<hr>\n",
    "<b><font color='red'>Ejercicio 04</font></b>  "
   ]
  },
  {
   "cell_type": "markdown",
   "id": "171179c2",
   "metadata": {},
   "source": [
    "1. Escribe en un archivo la siguiente matriz:\n",
    "$\n",
    "\\begin{equation}\n",
    "\\begin{pmatrix}\n",
    "3 & 1 & 3\\\\\n",
    "-1 & 1 & 0\\\\\n",
    "-2 & 4 & 1\n",
    "\\end{pmatrix}\n",
    "\\end{equation} \n",
    "$\n",
    "2. Lee el archivo\n",
    "3. Calcula con los datos leidos el determinante de la matriz y lo saque por pantalla"
   ]
  },
  {
   "cell_type": "code",
   "execution_count": 267,
   "id": "6f82b277",
   "metadata": {},
   "outputs": [
    {
     "name": "stdout",
     "output_type": "stream",
     "text": [
      "4\n"
     ]
    }
   ],
   "source": [
    "f = open(\"matriz.txt\",\"w\")\n",
    "f.write(\"3 1 3\\n-1 1 0\\n-2 2 1\")\n",
    "f.close()\n",
    "#--------------------------\n",
    "file= open(\"matriz.txt\",\"r\")\n",
    "matriz=[]\n",
    "\n",
    "for line in file:\n",
    "    matriz += [line.split()]\n",
    "\n",
    "def determinante(matriz):\n",
    "    sum1=int(matriz[0][0])*int(matriz[1][1])*int(matriz[2][2])\n",
    "    sum2=int(matriz[0][1])*int(matriz[1][2])*int(matriz[2][0])\n",
    "    sum3=int(matriz[0][2])*int(matriz[1][0])*int(matriz[2][1])\n",
    "    res1=int(matriz[0][2])*int(matriz[1][1])*int(matriz[2][0])\n",
    "    res2=int(matriz[0][1])*int(matriz[1][0])*int(matriz[2][2])\n",
    "    res3=int(matriz[0][0])*int(matriz[1][2])*int(matriz[2][1])\n",
    "    resultadoFinal = sum1 + sum2 + sum3 - res1 - res2 - res3\n",
    "    return resultadoFinal\n",
    "    \n",
    "print(determinante(matriz))\n"
   ]
  },
  {
   "cell_type": "markdown",
   "id": "8e47f147",
   "metadata": {},
   "source": [
    "<hr>\n",
    "<b><font color='red'>Ejercicio 05</font></b>  "
   ]
  },
  {
   "cell_type": "markdown",
   "id": "888503ef",
   "metadata": {},
   "source": [
    "En el criptoanálisis, la técnica de análisis de frecuencias consiste en el aprovechamiento de estudios sobre la frecuencia de las letras o grupos de letras en los idiomas para poder establecer hipótesis para aprovecharlas para poder descifrar un texto cifrado sin tener la clave de descifrado (romper). Es un método típico para romper cifrados clásicos. \n",
    "Haz una anailisis de frecuencias para los 10 primeros càpitulos de el libro \"el_quijote.txt\""
   ]
  },
  {
   "cell_type": "code",
   "execution_count": 261,
   "id": "a2972ed0",
   "metadata": {},
   "outputs": [
    {
     "name": "stdout",
     "output_type": "stream",
     "text": [
      "A   0.127\n",
      "B   0.017\n",
      "C   0.037\n",
      "D   0.053\n",
      "E   0.138\n",
      "F   0.005\n",
      "G   0.011\n",
      "H   0.012\n",
      "I   0.053\n",
      "J   0.007\n",
      "K   0.000\n",
      "L   0.060\n",
      "M   0.026\n",
      "N   0.066\n",
      "Ñ   0.000\n",
      "O   0.099\n",
      "P   0.021\n",
      "Q   0.019\n",
      "R   0.061\n",
      "S   0.073\n",
      "T   0.037\n",
      "U   0.048\n",
      "V   0.011\n",
      "W   0.000\n",
      "X   0.000\n",
      "Y   0.015\n",
      "Z   0.004\n"
     ]
    }
   ],
   "source": [
    "abc=\"ABCDEFGHIJKLMNÑOPQRSTUVWXYZ\"\n",
    "archivo=open(\"el_quijote.txt\",encoding='utf8')\n",
    "f={}\n",
    "sumTodasLetras=0\n",
    "for i in abc:\n",
    "    f[i]=0\n",
    "\n",
    "archivoFiltrado=archivo.read().upper().replace(\"Á\",\"A\").replace(\"É\",\"E\").replace(\"Í\",\"I\").replace(\"Ó\",\"O\").replace(\"Ú\",\"U\")\n",
    "\n",
    "for line in archivoFiltrado:\n",
    "    if(line in abc):\n",
    "        f[line] += 1\n",
    "        sumTodasLetras= sumTodasLetras +1\n",
    "\n",
    "\n",
    "for i in abc:\n",
    "    print(\"%.2c  \" % i,\"%.3f\" % (f[i]/sumTodasLetras))"
   ]
  },
  {
   "cell_type": "markdown",
   "id": "01aa879d",
   "metadata": {},
   "source": [
    "Salida:\n",
    "\n",
    "    A   0.127\n",
    "    B   0.017\n",
    "    C   0.037\n",
    "    D   0.053\n",
    "    E   0.138\n",
    "    F   0.005\n",
    "    .\n",
    "    .\n",
    "    ."
   ]
  },
  {
   "cell_type": "markdown",
   "id": "650d9ffa",
   "metadata": {},
   "source": [
    "<hr>\n",
    "<b><font color='red'>Ejercicio 06</font></b>  "
   ]
  },
  {
   "cell_type": "markdown",
   "id": "b8ac0b0a",
   "metadata": {},
   "source": [
    "haz un analisis de frecuencias en el libro encriptado \"RH RQCEPESEFM AR MPM.txt\", y comparala con el analisis anterior\n"
   ]
  },
  {
   "cell_type": "code",
   "execution_count": 264,
   "id": "71245e32",
   "metadata": {},
   "outputs": [
    {
     "name": "stdout",
     "output_type": "stream",
     "text": [
      "el_quijote.txt   RH RQCEPESEFM AR MPM.txt\n",
      "A   0.127        A   0.049\n",
      "B   0.017        B   0.006\n",
      "C   0.037        C   0.040\n",
      "D   0.053        D   0.061\n",
      "E   0.138        E   0.126\n",
      "F   0.005        F   0.007\n",
      "G   0.011        G   0.000\n",
      "H   0.012        H   0.052\n",
      "I   0.053        I   0.032\n",
      "J   0.007        J   0.012\n",
      "K   0.000        K   0.068\n",
      "L   0.060        L   0.001\n",
      "M   0.026        M   0.093\n",
      "N   0.066        N   0.027\n",
      "Ñ   0.000        Ñ   0.011\n",
      "O   0.099        O   0.010\n",
      "P   0.021        P   0.066\n",
      "Q   0.019        Q   0.069\n",
      "R   0.061        R   0.136\n",
      "S   0.073        S   0.017\n",
      "T   0.037        T   0.044\n",
      "U   0.048        U   0.045\n",
      "V   0.011        V   0.009\n",
      "W   0.000        W   0.000\n",
      "X   0.000        X   0.002\n",
      "Y   0.015        Y   0.009\n",
      "Z   0.004        Z   0.004\n"
     ]
    }
   ],
   "source": [
    "abc=\"ABCDEFGHIJKLMNÑOPQRSTUVWXYZ\"\n",
    "archivo1=open(\"RH RQCEPESEFM AR MPM.txt\", encoding=\"utf8\")\n",
    "archivo2=open(\"el_quijote.txt\",encoding='utf8')\n",
    "fRH={}\n",
    "fQuijote={}\n",
    "sumTodasLetrasRH=0\n",
    "sumTodasLetrasQuijote=0\n",
    "\n",
    "for i in abc:\n",
    "    fRH[i]=0\n",
    "    fQuijote[i]=0\n",
    "\n",
    "archivoFiltrado1=archivo1.read().upper().replace(\"Á\",\"A\").replace(\"É\",\"E\").replace(\"Í\",\"I\").replace(\"Ó\",\"O\").replace(\"Ú\",\"U\")\n",
    "archivoFiltrado2=archivo2.read().upper().replace(\"Á\",\"A\").replace(\"É\",\"E\").replace(\"Í\",\"I\").replace(\"Ó\",\"O\").replace(\"Ú\",\"U\")\n",
    "\n",
    "for line in archivoFiltrado1:\n",
    "    if(line in abc):\n",
    "        fRH[line] += 1\n",
    "        sumTodasLetrasRH= sumTodasLetrasRH +1\n",
    "\n",
    "for line in archivoFiltrado2:\n",
    "    if(line in abc):\n",
    "        fQuijote[line] += 1\n",
    "        sumTodasLetrasQuijote= sumTodasLetrasQuijote +1\n",
    "        \n",
    "print(\"el_quijote.txt\",\"  RH RQCEPESEFM AR MPM.txt\")    \n",
    "for i in abc:\n",
    "    print(\"%.2c  \" % i,\"%.3f\" % (fQuijote[i]/sumTodasLetrasQuijote),\"       %.2c  \" % i,\"%.3f\" % (fRH[i]/sumTodasLetrasRH))"
   ]
  },
  {
   "cell_type": "markdown",
   "id": "d656e5ea",
   "metadata": {},
   "source": [
    "salida:\n",
    "\n",
    "    el_quijote.txt   RH RQCEPESEFM AR MPM.txt\n",
    "    A   0.127        A   0.049\n",
    "    B   0.017        B   0.006\n",
    "    C   0.037        C   0.040\n",
    "    .                .\n",
    "    .                .\n",
    "    .                ."
   ]
  },
  {
   "cell_type": "markdown",
   "id": "81665cdb",
   "metadata": {},
   "source": [
    "<hr>\n",
    "<b><font color='red'>Ejercicio 07</font></b>  \n",
    "\n",
    "Comparando el analisis de frecuencia sabrías decir cual es el titulo del libro.  \n",
    "RH RQCEPESEFM AR MPM"
   ]
  },
  {
   "cell_type": "markdown",
   "id": "3a97d8ff",
   "metadata": {},
   "source": [
    "RESULTADO= EL ESCARABAJO DE ORO"
   ]
  },
  {
   "cell_type": "code",
   "execution_count": null,
   "id": "4cf3668b-cc59-46a2-91b6-fa090109f9ae",
   "metadata": {},
   "outputs": [],
   "source": []
  }
 ],
 "metadata": {
  "kernelspec": {
   "display_name": "Python 3 (ipykernel)",
   "language": "python",
   "name": "python3"
  },
  "language_info": {
   "codemirror_mode": {
    "name": "ipython",
    "version": 3
   },
   "file_extension": ".py",
   "mimetype": "text/x-python",
   "name": "python",
   "nbconvert_exporter": "python",
   "pygments_lexer": "ipython3",
   "version": "3.11.5"
  }
 },
 "nbformat": 4,
 "nbformat_minor": 5
}
