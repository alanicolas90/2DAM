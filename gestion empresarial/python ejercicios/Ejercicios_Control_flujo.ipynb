{
 "cells": [
  {
   "cell_type": "markdown",
   "id": "5de198f3",
   "metadata": {},
   "source": [
    "<hr>\n",
    "<b><font color='red'>Ejercicio 01</font></b>  \n",
    "\n",
    "- __La media__, es el promedio  \n",
    "$$\\mu = \\frac{1}{N}\\sum_{i=1}^{N} x_i$$\n",
    "- __La desviación estandar__ es una medida que se utiliza para cuantificar la variación o la dispersión de un conjunto de datos numéricos  \n",
    "$$\\sigma = \\sqrt{\\frac{1}{N}\\sum_{i=1}^{N} ( \\mu  - x_i )^{2}} $$\n",
    "Crea una función que te devuelva la media y la desviación estándar de una lista ordenada.  \n",
    "Pruébalo con lista = [4, 1, 11, 13, 2, 7]  \n",
    "ayuda : https://es.wikipedia.org/wiki/Desviaci%C3%B3n_t%C3%ADpica\n"
   ]
  },
  {
   "cell_type": "code",
   "execution_count": 40,
   "id": "1e17a159",
   "metadata": {},
   "outputs": [
    {
     "name": "stdout",
     "output_type": "stream",
     "text": [
      "media = 6.333333333333333 ± 4.459696053419884\n"
     ]
    }
   ],
   "source": [
    "def media(l):\n",
    "    sumatoria=0\n",
    "    for i in l:\n",
    "        sumatoria=sumatoria+i\n",
    "    return sumatoria/len(l)\n",
    "\n",
    "def DES(l):\n",
    "    x=media(l)\n",
    "    resultado=0\n",
    "    for i in l:\n",
    "        calculo = (i-x)**2\n",
    "        resultado= resultado + calculo \n",
    "    resultado=resultado/len(l)\n",
    "    return resultado**0.5\n",
    "    \n",
    "\n",
    "print(\"media = \"+str(media(lista))+\" \\u00B1 \"+str(DES(lista)))"
   ]
  },
  {
   "cell_type": "markdown",
   "id": "f329a7fa",
   "metadata": {},
   "source": [
    "<hr>\n",
    "<b><font color='red'>Ejercicio 02 </font></b>  \n",
    "    \n",
    "En matemática, la sucesión o __serie de Fibonacci__ es la siguiente sucesión infinita de números naturales:  \n",
    "0 , 1 , 1 , 2 , 3 , 5 , 8 , 13 , 21 , 34 , 55 , 89 , 144 , 233 , 377 , 610 , 987 , 1597  \n",
    "Crea una función que te devuelva la serie de Fibonacci hasta un número dado"
   ]
  },
  {
   "cell_type": "code",
   "execution_count": 70,
   "id": "29c01ca4",
   "metadata": {},
   "outputs": [
    {
     "data": {
      "text/plain": [
       "[0, 1, 1, 2, 3, 5, 8, 13, 21, 34]"
      ]
     },
     "execution_count": 70,
     "metadata": {},
     "output_type": "execute_result"
    }
   ],
   "source": [
    "def fibonacci(n):\n",
    "    lista=[]\n",
    "    resultado = 0\n",
    "    if n<=0:\n",
    "        return 0\n",
    "    else:\n",
    "        for i in range(0,n):\n",
    "            if len(lista) < 1:\n",
    "                lista.append(resultado)\n",
    "                resultado = resultado +1\n",
    "            elif len(lista)==1:\n",
    "                lista.append(1)\n",
    "            else:\n",
    "                resultado=lista[i-2]+resultado\n",
    "                lista.append(resultado)\n",
    "    return lista\n",
    "\n",
    "fibonacci(10)"
   ]
  },
  {
   "cell_type": "markdown",
   "id": "f254e5ed",
   "metadata": {},
   "source": [
    "<hr>\n",
    "<b><font color='red'>Ejercicio 03</font></b>  \n",
    "\n",
    "Cuenta que, cuando Julio César escribía sus mensajes, reemplazaba cada letra por la que estaba tres lugares más adelante en el alfabeto. Es decir,\n",
    "\"césar\" pasaba a ser \"FHVDU\", crea una función llamada Julio_Cesar que encripte los mensajes de entrada de la siguiente forma:\n",
    "- Pasa las palabras a mayúsculas\n",
    "- Quita los acentos Á -> A, etc ..\n",
    "- Cambia solo ABCDEFGHIJKLMNÑOPQRSTUVWXYZ\n"
   ]
  },
  {
   "cell_type": "code",
   "execution_count": 41,
   "id": "8e2c15de",
   "metadata": {},
   "outputs": [
    {
     "data": {
      "text/plain": [
       "'KRÑD MXÑLR FHVDU, ¿TXé WDÑ HVWDV? DEFGHIJKLMNÑOPQRSTUVWXYZABC'"
      ]
     },
     "execution_count": 41,
     "metadata": {},
     "output_type": "execute_result"
    }
   ],
   "source": [
    "def Julio_Cesar(entrada):\n",
    "    x = entrada.replace(\"Á\",\"A\").replace(\"É\",\"E\").replace(\"Í\",\"I\").replace(\"Ó\",\"O\").replace(\"Ú\",\"U\").replace(\"á\",\"a\").replace(\"é\",\"e\").replace(\"í\",\"i\").replace(\"ó\",\"o\").replace(\"ú\",\"u\")\n",
    "    abc=\"ABCDEFGHIJKLMNÑOPQRSTUVWXYZ\"\n",
    "    cesar=\"DEFGHIJKLMNÑOPQRSTUVWXYZABC\"\n",
    "    y=\"\"\n",
    "    for i in range(0,len(x)):\n",
    "        char = abc.find(entrada[i].upper())\n",
    "        if  char> -1:\n",
    "            y += cesar[char]\n",
    "        else:\n",
    "            y += entrada[i]\n",
    "    return y\n",
    "#esta debería ser la salida\n",
    "    salida=\"KRÑD MXÑLR FHVDU, ¿TXH WDÑ HVWDV? DEFGHIJKLMNÑOPQRSTUVWXYZABC\"\n",
    "Julio_Cesar(\"Hola Julio Cesar, ¿Qué tal estas? ABCDEFGHIJKLMNÑOPQRSTUVWXYZ\")"
   ]
  },
  {
   "cell_type": "markdown",
   "id": "b8b59b29",
   "metadata": {},
   "source": [
    "<hr>\n",
    "<b><font color='red'>Ejercicio 04</font></b>  \n",
    "\n",
    "El cifrado con clave, hay algunas formas de mejorar el método de Julio Cesar sin complicarlo demasiado, por ejemplo elegir una palabra clave con todas sus letras diferentes, supongamos que elegimos TUNOMBRE. Escribimos entonces el alfabeto normal junto con el transformado siguiente:\n",
    "\n",
    "    abc=\"ABCDEFGHIJKLMNÑOPQRSTUVWXYZ\"\n",
    "    ABC=\"TUNOMBREACDFGHIJKLÑOPQVWXYZ\" \n",
    "Utiliza tu nombre sin repetir ninguna letra, es decir si te llamas ANTONIO usa ANTOI "
   ]
  },
  {
   "cell_type": "code",
   "execution_count": 43,
   "id": "1ff4a4ba",
   "metadata": {},
   "outputs": [
    {
     "data": {
      "text/plain": [
       "'FOJA AJAM, ¿QUé TAJ CSTAS? ALNBCDEFGHIJKMÑOPQRSTUVWXYZ'"
      ]
     },
     "execution_count": 43,
     "metadata": {},
     "output_type": "execute_result"
    }
   ],
   "source": [
    "def tu_nombre(entrada):\n",
    "    abc=\"ABCDEFGHIJKLMNÑOPQRSTUVWXYZ\"\n",
    "    cesar=\"ALNBCDEFGHIJKMÑOPQRSTUVWXYZ\"\n",
    "    y=\"\"\n",
    "    for i in range(0,len(entrada)):\n",
    "        char = abc.find(entrada[i].upper())\n",
    "        if  char> -1:\n",
    "            y += cesar[char]\n",
    "        else:\n",
    "            y += entrada[i]\n",
    "    return y\n",
    "    \n",
    "    #esta debería ser la salida\n",
    "    salida=\"FOJA AJAM, ¿QUé TAJ CSTAS? ALNBCDEFGHIJKMÑOPQRSTUVWXYZ\"\n",
    "    \n",
    "    print(salida)\n",
    "\n",
    "tu_nombre(\"Hola Alan, ¿Qué tal estas? ABCDEFGHIJKLMNÑOPQRSTUVWXYZ\")"
   ]
  },
  {
   "cell_type": "code",
   "execution_count": null,
   "id": "3d2ecdcf",
   "metadata": {},
   "outputs": [],
   "source": []
  }
 ],
 "metadata": {
  "kernelspec": {
   "display_name": "Python 3 (ipykernel)",
   "language": "python",
   "name": "python3"
  },
  "language_info": {
   "codemirror_mode": {
    "name": "ipython",
    "version": 3
   },
   "file_extension": ".py",
   "mimetype": "text/x-python",
   "name": "python",
   "nbconvert_exporter": "python",
   "pygments_lexer": "ipython3",
   "version": "3.11.5"
  }
 },
 "nbformat": 4,
 "nbformat_minor": 5
}
