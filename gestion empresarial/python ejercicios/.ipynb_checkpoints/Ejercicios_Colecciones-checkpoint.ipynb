{
 "cells": [
  {
   "cell_type": "markdown",
   "id": "9b066a79",
   "metadata": {},
   "source": [
    "<hr>\n",
    "<b><font color='red'>Ejercicio 01</font></b>\n",
    "\n",
    "Completa y responde:"
   ]
  },
  {
   "cell_type": "code",
   "execution_count": 3,
   "id": "14315206",
   "metadata": {},
   "outputs": [
    {
     "name": "stdout",
     "output_type": "stream",
     "text": [
      "Violeta\n",
      "['Rojo', 'Naranja', 'Verde', 'Azul', 'Añil', 'Violeta']\n"
     ]
    },
    {
     "ename": "AttributeError",
     "evalue": "'list' object has no attribute 'swap'",
     "output_type": "error",
     "traceback": [
      "\u001b[1;31m---------------------------------------------------------------------------\u001b[0m",
      "\u001b[1;31mAttributeError\u001b[0m                            Traceback (most recent call last)",
      "Cell \u001b[1;32mIn [3], line 8\u001b[0m\n\u001b[0;32m      6\u001b[0m \u001b[38;5;28mprint\u001b[39m(lista)\n\u001b[0;32m      7\u001b[0m \u001b[38;5;66;03m#cambia la posción del Naranja por la posición del Verde e imprime por pantalla la lista entera\u001b[39;00m\n\u001b[1;32m----> 8\u001b[0m \u001b[43mlista\u001b[49m\u001b[38;5;241;43m.\u001b[39;49m\u001b[43mswap\u001b[49m(\u001b[38;5;124m\"\u001b[39m\u001b[38;5;124mNaranja\u001b[39m\u001b[38;5;124m\"\u001b[39m,\u001b[38;5;124m\"\u001b[39m\u001b[38;5;124mVerde\u001b[39m\u001b[38;5;124m\"\u001b[39m)\n\u001b[0;32m      9\u001b[0m \u001b[38;5;66;03m#ordena la lista e imprimela por pantalla\u001b[39;00m\n\u001b[0;32m     10\u001b[0m \u001b[38;5;124;03m\"\"\"Esribe tu código aquí\"\"\"\u001b[39;00m\n",
      "\u001b[1;31mAttributeError\u001b[0m: 'list' object has no attribute 'swap'"
     ]
    }
   ],
   "source": [
    "lista = [\"Rojo\",\"Naranja\",\"Amarillo\",\"Verde\",\"Azul\",\"Añil\",\"Violeta\"]\n",
    "#imprime por pantalla el septimo item\n",
    "print(lista[6])\n",
    "#borra el Amarillo e imprime por pantalla la lista entera\n",
    "lista.remove(\"Amarillo\")\n",
    "print(lista)\n",
    "#cambia la posción del Naranja por la posición del Verde e imprime por pantalla la lista entera\n",
    "lista.swap(\"Naranja\",\"Verde\")\n",
    "#ordena la lista e imprimela por pantalla\n",
    "\"\"\"Esribe tu código aquí\"\"\"\n",
    "#¿Cuál es la longitud de la lista?\n",
    "\"\"\"Esribe tu código aquí\"\"\""
   ]
  },
  {
   "cell_type": "markdown",
   "id": "49d3d66d",
   "metadata": {},
   "source": [
    "<hr>\n",
    "<b><font color='red'>Ejercicio 02</font></b>\n",
    "\n",
    "Es el mismo ejercicio que el anterior, pero ahora lo hacemos con tuplas."
   ]
  },
  {
   "cell_type": "code",
   "execution_count": 7,
   "id": "ea21a1f9",
   "metadata": {},
   "outputs": [
    {
     "data": {
      "text/plain": [
       "'Esribe tu código aquí'"
      ]
     },
     "execution_count": 7,
     "metadata": {},
     "output_type": "execute_result"
    }
   ],
   "source": [
    "tupla = (\"Rojo\",\"Naranja\",\"Amarillo\",\"Verde\",\"Azul\",\"Añil\",\"Violeta\")\n",
    "#imprime por pantalla el septimo item\n",
    "\"\"\"Esribe tu código aquí\"\"\"\n",
    "#borra el Amarillo e imprime por pantalla la tupla entera\n",
    "\"\"\"Esribe tu código aquí\"\"\"\n",
    "#cambia la posción del Naranja por la posición del Verde e imprime por pantalla la tupla entera\n",
    "\"\"\"Esribe tu código aquí\"\"\"\n",
    "#ordena la tupla e imprimela por pantalla\n",
    "\"\"\"Esribe tu código aquí\"\"\"\n",
    "#¿Cuál es la longitud de la tupla?\n",
    "\"\"\"Esribe tu código aquí\"\"\""
   ]
  },
  {
   "cell_type": "markdown",
   "id": "2a94218a",
   "metadata": {},
   "source": [
    "<hr>\n",
    "<b><font color='red'>Ejercicio 03</font></b>\n",
    "\n",
    "Completa y responde"
   ]
  },
  {
   "cell_type": "code",
   "execution_count": 8,
   "id": "7b28e685",
   "metadata": {},
   "outputs": [
    {
     "data": {
      "text/plain": [
       "'Esribe tu código aquí'"
      ]
     },
     "execution_count": 8,
     "metadata": {},
     "output_type": "execute_result"
    }
   ],
   "source": [
    "dic = {\n",
    "    \"Nombre\":\"pon tu nombre\",\n",
    "    \"Apellido\":\"pon tu apellido\",\n",
    "    \"Día de nacimiento\":\"pon el día que naciste en número\",\n",
    "    \"Mes de nacimiento\":\"pon el mes que naciste en número\"\n",
    "}\n",
    "\n",
    "#responde a las siguientes preguntas accediento al diccionario que has creado:\n",
    "#¿Cómo te llamas?\n",
    "\"\"\"Esribe tu código aquí\"\"\"\n",
    "#¿Qué día naciste?\n",
    "\"\"\"Esribe tu código aquí\"\"\"\n",
    "#Utiliza la siguiente lista y con tu diccionario responde a la siugiente pregunta con el nombre del mes\n",
    "MES=[\"enero\",\"febrero\",\"marzo\",\"abril\",\"mayo\",\"junio\",\"julio\",\"agosto\",\"septiembre\",\"octubre\",\"noviembre\",\"diciembre\"]\n",
    "#¿Qué mes naciste?\n",
    "\"\"\"Esribe tu código aquí\"\"\""
   ]
  },
  {
   "cell_type": "code",
   "execution_count": null,
   "id": "bbfda54b",
   "metadata": {},
   "outputs": [],
   "source": []
  }
 ],
 "metadata": {
  "kernelspec": {
   "display_name": "Python 3 (ipykernel)",
   "language": "python",
   "name": "python3"
  },
  "language_info": {
   "codemirror_mode": {
    "name": "ipython",
    "version": 3
   },
   "file_extension": ".py",
   "mimetype": "text/x-python",
   "name": "python",
   "nbconvert_exporter": "python",
   "pygments_lexer": "ipython3",
   "version": "3.9.13"
  }
 },
 "nbformat": 4,
 "nbformat_minor": 5
}
