{
 "cells": [
  {
   "cell_type": "markdown",
   "id": "63af781b",
   "metadata": {},
   "source": [
    "<hr>\n",
    "<b><font color='red'>Ejercicio 01</font></b>\n",
    "\n",
    "Completa y responde:"
   ]
  },
  {
   "cell_type": "code",
   "execution_count": 6,
   "id": "e38ae569",
   "metadata": {},
   "outputs": [
    {
     "name": "stdout",
     "output_type": "stream",
     "text": [
      "<class 'int'>\n",
      "<class 'int'>\n",
      "--------\n",
      "<class 'int'>\n",
      "<class 'float'>\n"
     ]
    }
   ],
   "source": [
    "d=25 #cambia 25 el día de tu cumpleaños\n",
    "m=1  #cambia el 1 por el mes de tu cumpleaños\n",
    "x=d+m\n",
    "#¿Qué tipo es?\n",
    "#todos son tipo int\n",
    "print(type(d))\n",
    "print(type(m))\n",
    "print(\"--------\")\n",
    "print(type(x))\n",
    "x=x*1.00\n",
    "print(type(x))\n",
    "#¿Qué tipo es?¿A cambiado?\n",
    "#es tipo float ahora"
   ]
  },
  {
   "cell_type": "markdown",
   "id": "8999caec",
   "metadata": {},
   "source": [
    "<hr>\n",
    "<b><font color='red'>Ejercicio 02</font></b>  \n",
    "\n",
    "Completa y responde:"
   ]
  },
  {
   "cell_type": "code",
   "execution_count": 16,
   "id": "9255b564",
   "metadata": {},
   "outputs": [
    {
     "name": "stdout",
     "output_type": "stream",
     "text": [
      "   AND\n",
      "----------\n",
      " 0 0 | 0\n",
      " 0 1 | 0\n",
      " 1 0 | 0\n",
      " 1 1 | 1\n",
      "\n",
      "    OR\n",
      "----------\n",
      " 0 0 | 0\n",
      " 0 1 | 1\n",
      " 1 0 | 1\n",
      " 1 1 | 1\n",
      "\n",
      "   XOR\n",
      "----------\n",
      " 0 0 | 0\n",
      " 0 1 | 1\n",
      " 1 0 | 1\n",
      " 1 1 | 0\n",
      "\n"
     ]
    }
   ],
   "source": [
    "print(\"   AND\")\n",
    "print(\"----------\")\n",
    "print(\" 0 0 | \"+str(0 and 0))\n",
    "print(\" 0 1 | \"+str(0 and 1))\n",
    "print(\" 1 0 | \"+str(1 and 0))\n",
    "print(\" 1 1 | \"+str(1 and 1))\n",
    "print(\"\")\n",
    "#Crea la tabla del OR y XOR\n",
    "\"\"\"Esribe tu código aquí\"\"\"\n",
    "print(\"    OR\")\n",
    "print(\"----------\")\n",
    "print(\" 0 0 | \"+str(0 | 0))\n",
    "print(\" 0 1 | \"+str(0 | 1))\n",
    "print(\" 1 0 | \"+str(1 | 0))\n",
    "print(\" 1 1 | \"+str(1 | 1))\n",
    "print(\"\")\n",
    "print(\"   XOR\")\n",
    "print(\"----------\")\n",
    "print(\" 0 0 | \"+str(0 ^ 0))\n",
    "print(\" 0 1 | \"+str(0 ^ 1))\n",
    "print(\" 1 0 | \"+str(1 ^ 0))\n",
    "print(\" 1 1 | \"+str(1 ^ 1))\n",
    "print(\"\")"
   ]
  },
  {
   "cell_type": "markdown",
   "id": "bcda0d32",
   "metadata": {},
   "source": [
    "<hr>\n",
    "<b><font color='red'>Ejercicio 03</font></b>\n",
    "\n",
    "s=\"tu nombre apellido\"  \n",
    "Reemplaza:\n",
    "- a por @\n",
    "- e por 3\n",
    "- i por 1\n",
    "- o por 0\n",
    "- u por 4\n",
    "- y los espacios por -"
   ]
  },
  {
   "cell_type": "code",
   "execution_count": 20,
   "id": "9d8a0aab",
   "metadata": {},
   "outputs": [
    {
     "name": "stdout",
     "output_type": "stream",
     "text": [
      "@l@n-n1c0l@s-m1k0l@jczyk\n"
     ]
    }
   ],
   "source": [
    "s=\"alan nicolas mikolajczyk\"\n",
    "\"\"\"Esribe tu código aquí\"\"\"\n",
    "print(s.replace(\"a\",\"@\").replace(\"e\",\"3\").replace(\"i\",\"1\").replace(\"o\",\"0\").replace(\"u\",\"4\").replace(\" \",\"-\"))"
   ]
  },
  {
   "cell_type": "markdown",
   "id": "c0847014",
   "metadata": {},
   "source": [
    "<hr>\n",
    "<b><font color='red'>Ejercicio 04</font></b>  \n",
    "\n",
    "Haz que solo se impriman los nombres de los siguientes archivos, usa la misma instrucción en todos los casos:"
   ]
  },
  {
   "cell_type": "code",
   "execution_count": 23,
   "id": "f5028d05",
   "metadata": {},
   "outputs": [
    {
     "name": "stdout",
     "output_type": "stream",
     "text": [
      "readme\n",
      "readme\n",
      "readme_02\n",
      "readme\n",
      "readme.02\n"
     ]
    }
   ],
   "source": [
    "archivo=\"readme.txt\"\n",
    "#debería aparecer solo readme\n",
    "print(archivo[0:archivo.rfind(\".\")])\n",
    "archivo=\"readme.jpg\"\n",
    "#debería aparecer solo readme\n",
    "\"\"\"Esribe tu código aquí\"\"\"\n",
    "print(archivo[0:archivo.rfind(\".\")])\n",
    "archivo=\"readme_02.docx\"\n",
    "#debería aparecer solo readme_02\n",
    "\"\"\"Esribe tu código aquí\"\"\"\n",
    "print(archivo[0:archivo.rfind(\".\")])\n",
    "archivo=\"readme.txt\"\n",
    "#debería aparecer solo readme\n",
    "\"\"\"Esribe tu código aquí\"\"\"\n",
    "print(archivo[0:archivo.rfind(\".\")])\n",
    "archivo=\"readme.02.txt\"\n",
    "#debería aparecer solo readme.02\n",
    "\"\"\"Esribe tu código aquí\"\"\"\n",
    "print(archivo[0:archivo.rfind(\".\")])"
   ]
  },
  {
   "cell_type": "code",
   "execution_count": null,
   "id": "03266f41-4c19-43f3-8b22-947643bed0b0",
   "metadata": {},
   "outputs": [],
   "source": []
  }
 ],
 "metadata": {
  "kernelspec": {
   "display_name": "Python 3 (ipykernel)",
   "language": "python",
   "name": "python3"
  },
  "language_info": {
   "codemirror_mode": {
    "name": "ipython",
    "version": 3
   },
   "file_extension": ".py",
   "mimetype": "text/x-python",
   "name": "python",
   "nbconvert_exporter": "python",
   "pygments_lexer": "ipython3",
   "version": "3.11.5"
  }
 },
 "nbformat": 4,
 "nbformat_minor": 5
}
