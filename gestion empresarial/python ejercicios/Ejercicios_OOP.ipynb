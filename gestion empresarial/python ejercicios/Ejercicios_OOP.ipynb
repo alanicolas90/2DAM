{
 "cells": [
  {
   "cell_type": "markdown",
   "id": "2450b6f4",
   "metadata": {},
   "source": [
    "<hr>\n",
    "<b><font color='red'>Ejercicio 01</font></b>  \n",
    "\n",
    "Crea una clase llamada int8 con una método llamado getint8() que obtenga el número rellenando con \"8\" ceros a la izquierda.\n",
    "Crea otro método sum(int8) que devuelva la suma rellenando con \"8\" ceros a la izquierda\n",
    "En el caso de que el número sea mayor que 9999999 o menor que -9999999, devuelve \"NAN\""
   ]
  },
  {
   "cell_type": "code",
   "execution_count": 119,
   "id": "b3afc827",
   "metadata": {},
   "outputs": [
    {
     "name": "stdout",
     "output_type": "stream",
     "text": [
      "00000501\n",
      "00000602\n",
      "NAN\n"
     ]
    }
   ],
   "source": [
    "class int8:\n",
    "    def __init__(self, number):\n",
    "        self.number=number\n",
    "        \n",
    "    def getint8(self):\n",
    "        resultado=str(self.number)\n",
    "        if (len(resultado)< 8):\n",
    "            for i in range(0, 8-len(str(self.number))):\n",
    "                resultado = \"0\" + resultado\n",
    "        return print(resultado)\n",
    "    \n",
    "    \n",
    "    def sum(self,otro_int8):\n",
    "        resultadoSuma = int8(str(int(self.number) + int(otro_int8.number)))\n",
    "        if(int(resultadoSuma.number)<9999999 and int(resultadoSuma.number)> -9999999):\n",
    "            resultadoSuma.getint8()\n",
    "        else:\n",
    "            print(\"NAN\")\n",
    "            \n",
    "    \n",
    "#descomenta la siguientes 2 lineas\n",
    "a = int8(\"501\")\n",
    "b = int8(\"101\")\n",
    "a.getint8()\n",
    "a.sum(b)\n",
    "nmax = int8(9999999)\n",
    "a.sum(nmax)\n"
   ]
  },
  {
   "cell_type": "markdown",
   "id": "16c3a3ff",
   "metadata": {},
   "source": [
    "<hr>\n",
    "<b><font color='red'>Ejercicio 02</font></b>  \n",
    "\n",
    "Crea una clase llamada Cuenta que tendrá los siguientes atributos: titular (que es una persona) y cantidad (puede tener decimales). El titular será obligatorio y la cantidad es opcional. Construye los siguientes métodos para la clase:  \n",
    "- Un constructor, donde los datos pueden estar vacíos.  \n",
    "- Los setters y getters para cada uno de los atributos. El atributo no se puede modificar directamente, sólo ingresando o retirando dinero.  \n",
    "- mostrar(): Muestra los datos de la cuenta.  \n",
    "- ingresar(cantidad): se ingresa una cantidad a la cuenta, si la cantidad introducida es negativa, no se hará nada.  \n",
    "- retirar(cantidad): se retira una cantidad a la cuenta. La cuenta puede estar en números rojos.\n"
   ]
  },
  {
   "cell_type": "code",
   "execution_count": 16,
   "id": "95bf4541",
   "metadata": {},
   "outputs": [
    {
     "name": "stdout",
     "output_type": "stream",
     "text": [
      "tutlar\n",
      "100.1\n",
      "++++++++++\n",
      "Titular= tutlar\n",
      "Cantidad= 100.1\n",
      "++++++++++\n",
      "Titular= juancho\n",
      "Cantidad= 1222.0\n",
      "++++++++++\n",
      "Titular= juancho\n",
      "Cantidad= 1422.0\n",
      "++++++++++\n",
      "Titular= juancho\n",
      "Cantidad= -78.0\n"
     ]
    }
   ],
   "source": [
    " class Cuenta():\n",
    "    def __init__(self,titular=\"\", cantidad=0.0):\n",
    "        self.titular=titular\n",
    "        self.cantidad=cantidad\n",
    "\n",
    "    def mostrar(self):\n",
    "        print(\"++++++++++\")\n",
    "        print(\"Titular= \" + self.titular)\n",
    "        print(\"Cantidad= \" + str(self.cantidad))\n",
    "        \n",
    "    def getTitular(self):\n",
    "        return print(self.titular)\n",
    "        \n",
    "    def getCantidad(self):\n",
    "        return print(self.cantidad)\n",
    "        \n",
    "    def setTitular(self, nuevoTitular):\n",
    "        self.titular= nuevoTitular\n",
    "        \n",
    "    def setCantidad(self, nuevaCantidad):\n",
    "        self.cantidad=nuevaCantidad\n",
    "\n",
    "    def ingresar(self, addCantidad):\n",
    "        if(addCantidad > 0):\n",
    "            self.cantidad= self.cantidad+ addCantidad\n",
    "\n",
    "    def retirar(self, retirar):\n",
    "        self.cantidad = self.cantidad - retirar\n",
    "\n",
    "\n",
    "\n",
    "a=Cuenta(\"tutlar\",100.1)\n",
    "a.getTitular()\n",
    "a.getCantidad()\n",
    "a.mostrar()\n",
    "a.setTitular(\"juancho\")\n",
    "a.setCantidad(1222.0)\n",
    "a.mostrar()\n",
    "a.ingresar(200)\n",
    "a.mostrar()\n",
    "a.retirar(1500)\n",
    "a.mostrar()"
   ]
  },
  {
   "cell_type": "markdown",
   "id": "49a31663",
   "metadata": {},
   "source": [
    "<hr>\n",
    "<b><font color='red'>Ejercicio 03</font></b>  \n",
    "\n",
    "Crea una Clase Teléfono, si empieza por 9 u 8 haz que lo guarde como un fijo, en el caso de que empiece por 6 o 7 lo guarde como móvil.  \n",
    "Haz un método que cambie el número de télefono, en el caso de que reciva mas de 9 dígitos haz que devuelva \"Número no cambiado\" y no guarde el número, en el caso de que tenga nueve digitos, lo guarda como móvil o fijo.\n",
    "Crea una clase persona con télefono, de tal manera que:"
   ]
  },
  {
   "cell_type": "code",
   "execution_count": 46,
   "id": "d0cb9a5c",
   "metadata": {},
   "outputs": [
    {
     "name": "stdout",
     "output_type": "stream",
     "text": [
      "987654321\n",
      "Mi teléfono es un fíjo con número 987654321\n",
      "Número no cambiado, necesitamos un número de 9 cifras\n",
      "Número cambiado, Mi teléfono es un móvil con número 654987321\n"
     ]
    }
   ],
   "source": [
    "class Persona_tlf:\n",
    "    def __init__ (self, año_nacimiento, sexo, nombre, apellido, num_telefono):\n",
    "        self.año_nacimiento = año_nacimiento\n",
    "        self.sexo = sexo\n",
    "        self.nombre=nombre\n",
    "        self.apellido=apellido\n",
    "        self.num_telefono=num_telefono\n",
    "\n",
    "    def get_tlf(self):\n",
    "        print(self.num_telefono)\n",
    "\n",
    "    def tlf_info(self):\n",
    "        primerDigito = str(self.num_telefono)[0]\n",
    "        if(primerDigito == \"9\" or primerDigito == \"8\"):\n",
    "            print(\"Mi teléfono es un fíjo con número \"+ self.num_telefono)\n",
    "        elif(primerDigito == \"9\" or primerDigito == \"8\"):\n",
    "            print(\"Mi teléfono es un movil con número \" + self.num_telefono)\n",
    "        \n",
    "\n",
    "    def cambiar_tlf(self, nuevoNumTel):\n",
    "        if(len(str(nuevoNumTel)) == 9):\n",
    "            self.num_telefono = nuevoNumTel\n",
    "            primerDigito = str(self.num_telefono)[0]\n",
    "            if(primerDigito == \"9\" or primerDigito == \"8\"):\n",
    "                print(\"Número cambiado, Mi teléfono es un fijo con número \"+ str(self.num_telefono))\n",
    "            elif(primerDigito == \"7\" or primerDigito == \"6\"):\n",
    "                print(\"Número cambiado, Mi teléfono es un móvil con número \" + str(self.num_telefono))\n",
    "        else:\n",
    "            print(\"Número no cambiado, necesitamos un número de 9 cifras\")\n",
    "\n",
    "#descomenta la siguientes 2 lineas\n",
    "persona_tlf01 = Persona_tlf(1979,\"Hombre\",\"Manuel\",\"López\",\"987654321\")\n",
    "persona_tlf01.get_tlf()\n",
    "\n",
    "#salida:\n",
    "#987654321\n",
    "\n",
    "#descomenta la siguiente linea\n",
    "persona_tlf01.tlf_info()\n",
    "\n",
    "#salida:\n",
    "#Mi teléfono es un fíjo con número 987654321\n",
    "\n",
    "#descomenta la siguiente linea\n",
    "persona_tlf01.cambiar_tlf(1235)\n",
    "#salida:\n",
    "#Número no cambiado, necesitamos un número de 9 cifras\n",
    "\n",
    "#descomenta la siguiente linea\n",
    "persona_tlf01.cambiar_tlf(654987321)\n",
    "\n",
    "#salida:\n",
    "#Número cambiado, Mi teléfono es un móvil con número 654987321"
   ]
  },
  {
   "cell_type": "markdown",
   "id": "2f3e2e6c",
   "metadata": {},
   "source": [
    "<hr>\n",
    "<b><font color='red'>Ejercicio 04</font></b>  \n",
    "\n",
    "Dadas las siguientes listas de módulos:"
   ]
  },
  {
   "cell_type": "markdown",
   "id": "a12ca49d",
   "metadata": {},
   "source": [
    "Crea la clase Curso que cargue los dos cursos DAM1 y DAM2.\n",
    "Crea la clase Modulo que cargue los módulos.\n",
    "Haz una lista con los cursos de tal forma que la salida de:"
   ]
  },
  {
   "cell_type": "code",
   "execution_count": 110,
   "id": "deb12701-b1d0-4239-af62-cacccd838b26",
   "metadata": {},
   "outputs": [
    {
     "name": "stdout",
     "output_type": "stream",
     "text": [
      "1\n"
     ]
    }
   ],
   "source": [
    "print(DAM1."
   ]
  },
  {
   "cell_type": "markdown",
   "id": "2240dd3a",
   "metadata": {},
   "source": [
    "- ayuda:\n",
    "    + metodo \\_\\_init\\_\\_ para la clase Curso : def \\_\\_init\\_\\_(self,año,nombre):\n",
    "    + metodo \\_\\_init\\_\\_ para la clase Modulo : def \\_\\_init\\_\\_(self, ID, nombre , horas):\n"
   ]
  },
  {
   "cell_type": "markdown",
   "id": "f4472238",
   "metadata": {},
   "source": [
    "<code>for i in cursos:\n",
    "    i.info()\n",
    "</code>\n",
    "\n",
    "    Curso 1 DAM\n",
    "      0484 Bases de datos (6)\n",
    "      0487 Entornos de desarrollo (3)\n",
    "      0493 Formación y orientación laboral (3)\n",
    "      0373 Lenguaje de marcas y sistemas de gestión de información (4)\n",
    "      0485 Programación (8)\n",
    "      0483 Sistemas informáticos (6)\n",
    "    Curso 2 DAM\n",
    "      0486 Acceso a datos (6)\n",
    "      0488 Desarrollo de interfaces (6)\n",
    "      0494 Empresa e iniciativa emprendedora (3)\n",
    "      9009 Inglés técnico para grado superior (2)\n",
    "      0490 Programación de servicios y procesos (4)\n",
    "      0489 Programación multimedia y dispositivos móviles (4)\n",
    "      0491 Sistemas de gestión empresarial (5)"
   ]
  },
  {
   "cell_type": "markdown",
   "id": "b75d3278",
   "metadata": {},
   "source": [
    "<hr>\n",
    "<b><font color='red'>Ejercicio 05</font></b>  \n",
    "\n",
    "Completa el siguiente código:"
   ]
  },
  {
   "cell_type": "code",
   "execution_count": 107,
   "id": "0a3d4184",
   "metadata": {},
   "outputs": [
    {
     "name": "stdout",
     "output_type": "stream",
     "text": [
      "El pasajero Antonella tiene cara Alegre\n",
      "El pasajero Isabel tiene cara Alegre\n",
      "El pasajero Luna tiene cara Alegre\n",
      "El pasajero Luciana tiene cara Alegre\n",
      "El pasajero Ana tiene cara Alegre\n",
      "El pasajero Sofía tiene cara Alegre\n",
      "El pasajero Mario tiene cara Alegre\n",
      "El pasajero Francesca tiene cara Alegre\n",
      "El pasajero Alejandro tiene cara Alegre\n",
      "El pasajero Alejandra tiene cara Alegre\n",
      "El pasajero Allison tiene cara Alegre\n",
      "El pasajero Isaac tiene cara Alegre\n",
      "El pasajero Carlos tiene cara Alegre\n",
      "El pasajero Renata tiene cara Alegre\n",
      "El pasajero Laura tiene cara Alegre\n",
      "El pasajero Sebastián tiene cara Alegre\n",
      "El pasajero Abigail tiene cara Alegre\n",
      "El pasajero Andrea tiene cara Alegre\n",
      "El pasajero María tiene cara Alegre\n",
      "El pasajero Ivanna tiene cara Alegre\n",
      "El pasajero Alejandra tiene cara Alegre\n",
      "El pasajero Violeta tiene cara Alegre\n",
      "El pasajero Ashley tiene cara Alegre\n",
      "El pasajero Julia tiene cara Alegre\n",
      "El pasajero Miranda tiene cara Alegre\n",
      "El pasajero Nicole tiene cara Alegre\n",
      "El pasajero Rafaela tiene cara Alegre\n",
      "El pasajero Samuel tiene cara Alegre\n",
      "El pasajero Kevin tiene cara Alegre\n",
      "El pasajero Lucía tiene cara Alegre\n",
      "El pasajero LiaHombre tiene cara Alegre\n",
      "El pasajero Alan tiene cara DE CUMPLEAÑOS\n"
     ]
    }
   ],
   "source": [
    "#tenemos la siguiente lista de pasajeros:\n",
    "\n",
    "lista=[[\"Mujer\",\"Antonella\",\"Rodriguez\"],\n",
    "[\"Mujer\",\"Isabel\",\"Gutierrez\"],\n",
    "[\"Mujer\",\"Luna\",\"Garcia\"],\n",
    "[\"Mujer\",\"Luciana\",\"Gonzalez\"],\n",
    "[\"Mujer\",\"Ana\",\"Martinez\"],\n",
    "[\"Mujer\",\"Sofía\",\"Medina\"],\n",
    "[\"Hombre\",\"Mario\",\"Herrera\"],\n",
    "[\"Mujer\",\"Francesca\",\"Sanchez\"],\n",
    "[\"Hombre\",\"Alejandro\",\"Sanchez\"],\n",
    "[\"Mujer\",\"Alejandra\",\"Romero\"],\n",
    "[\"Mujer\",\"Allison\",\"Castro\"],\n",
    "[\"Hombre\",\"Isaac\",\"Vazquez\"],\n",
    "[\"Hombre\",\"Carlos\",\"Gonzalez\"],\n",
    "[\"Mujer\",\"Renata\",\"Morrell\"],\n",
    "[\"Mujer\",\"Laura\",\"Sanchez\"],\n",
    "[\"Hombre\",\"Sebastián\",\"Molina\"],\n",
    "[\"Mujer\",\"Abigail\",\"Lopez\"],\n",
    "[\"Mujer\",\"Andrea\",\"Ramos\"],\n",
    "[\"Mujer\",\"María\",\"Delgado\"],\n",
    "[\"Mujer\",\"Ivanna\",\"Serrano\"],\n",
    "[\"Mujer\",\"Alejandra\",\"Medina\"],\n",
    "[\"Mujer\",\"Violeta\",\"Ortega\"],\n",
    "[\"Mujer\",\"Ashley\",\"Rodriguez\"],\n",
    "[\"Mujer\",\"Julia\",\"Alvarez\"],\n",
    "[\"Mujer\",\"Miranda\",\"Cruz\"],\n",
    "[\"Mujer\",\"Nicole\",\"Gil\"],\n",
    "[\"Mujer\",\"Rafaela\",\"Herrera\"],\n",
    "[\"Hombre\",\"Samuel\",\"Mendez\"],\n",
    "[\"Hombre\",\"Kevin\",\"Castro\"],\n",
    "[\"Mujer\",\"Lucía\",\"Santos\"],\n",
    "[\"Hombre\",\"LiaHombre\",\"Gil\"],\n",
    "[\"Mujer\",\"Allison\",\"Jimenez\"]]\n",
    "\n",
    "#Teniendo encuenta que todos han nacido en el 2000 crea una lista de Personas con la lista de pasajeros llamala:\n",
    "pasajero=[]\n",
    "for i in lista:\n",
    "    pasajero.append(i)\n",
    "    \n",
    "#Cambia el nombre del pasajero del día de tu cumpleaños por tu nombre y pon cara=\"DE CUMPLEAÑOS\", si quieres cambiale tambien el sexo\n",
    "pasajero[31][0]=\"Hombre\"\n",
    "pasajero[31][1] = \"Alan\"\n",
    "pasajero[31][2] = \"Mikolajczyk\"\n",
    "\n",
    "for i in pasajero:\n",
    "    if(i[1] == \"Alan\" and i[2] == \"Mikolajczyk\"):\n",
    "        print(\"El pasajero \"+ i[1]+\" tiene cara DE CUMPLEAÑOS\")\n",
    "    else:\n",
    "        print(\"El pasajero \" + i[1] + \" tiene cara Alegre\")\n",
    "#haz que se muestre por pantalla la siguiente información"
   ]
  },
  {
   "cell_type": "markdown",
   "id": "27b79e8f",
   "metadata": {},
   "source": [
    "    El pasajero Antonella tiene cara Alegre\n",
    "    El pasajero Isabel tiene cara Alegre\n",
    "    El pasajero Luna tiene cara Alegre\n",
    "    El pasajero Luciana tiene cara Alegre\n",
    "    El pasajero Ana tiene cara Alegre\n",
    "    El pasajero Sofía tiene cara Alegre\n",
    "    El pasajero Mario tiene cara Alegre\n",
    "    El pasajero Francesca tiene cara Alegre\n",
    "    El pasajero Alejandro tiene cara Alegre\n",
    "    El pasajero Alejandra tiene cara Alegre\n",
    "    El pasajero Allison tiene cara Alegre\n",
    "    El pasajero Isaac tiene cara Alegre\n",
    "    El pasajero Carlos tiene cara Alegre\n",
    "    El pasajero Renata tiene cara Alegre\n",
    "    El pasajero Laura tiene cara Alegre\n",
    "    El pasajero Sebastián tiene cara Alegre\n",
    "    El pasajero Abigail tiene cara Alegre\n",
    "    El pasajero Andrea tiene cara Alegre\n",
    "    El pasajero María tiene cara Alegre\n",
    "    El pasajero Ivanna tiene cara Alegre\n",
    "    El pasajero Alejandra tiene cara Alegre\n",
    "    El pasajero Violeta tiene cara Alegre\n",
    "    El pasajero Ashley tiene cara Alegre\n",
    "    El pasajero Julia tiene cara Alegre\n",
    "    El pasajero Miranda tiene cara Alegre\n",
    "    El pasajero Daniel tiene cara DE CUMPLEAÑOS\n",
    "    El pasajero Rafaela tiene cara Alegre\n",
    "    El pasajero Samuel tiene cara Alegre\n",
    "    El pasajero Kevin tiene cara Alegre\n",
    "    El pasajero Lucía tiene cara Alegre\n",
    "    El pasajero LiaHombre tiene cara Alegre\n",
    "    El pasajero Allison tiene cara Alegre"
   ]
  },
  {
   "cell_type": "code",
   "execution_count": null,
   "id": "fc7f2a5c",
   "metadata": {},
   "outputs": [],
   "source": []
  }
 ],
 "metadata": {
  "kernelspec": {
   "display_name": "Python 3 (ipykernel)",
   "language": "python",
   "name": "python3"
  },
  "language_info": {
   "codemirror_mode": {
    "name": "ipython",
    "version": 3
   },
   "file_extension": ".py",
   "mimetype": "text/x-python",
   "name": "python",
   "nbconvert_exporter": "python",
   "pygments_lexer": "ipython3",
   "version": "3.11.6"
  }
 },
 "nbformat": 4,
 "nbformat_minor": 5
}
